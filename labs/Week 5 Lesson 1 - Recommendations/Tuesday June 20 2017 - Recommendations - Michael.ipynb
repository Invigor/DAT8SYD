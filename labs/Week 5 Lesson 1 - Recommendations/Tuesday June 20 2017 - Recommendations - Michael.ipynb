{
 "cells": [
  {
   "cell_type": "markdown",
   "metadata": {},
   "source": [
    "# Recommendation Engines - MovieLens Data\n",
    "\n",
    "## Tuesday June 20 2017\n",
    "\n",
    "MovieLens data sets were collected by the GroupLens Research Project at the University of Minnesota.\n",
    "\n",
    "This data set consists of: * 100,000 ratings (1-5) from 943 users on 1682 movies. * Each user has rated at least 20 movies. * Simple demographic info for the users (age, gender, occupation, zip)\n",
    "\n",
    "The data was collected through the MovieLens web site (movielens.umn.edu) during the seven-month period from September 19th, 1997 through April 22nd, 1998. This data has been cleaned up - users who had less than 20 ratings or did not have complete demographic information were removed from this data set. Detailed descriptions of the data file can be found at the end of this file.\n",
    "\n",
    "### Tasks\n",
    "\n",
    "1. Load the data into the recommendation format\n",
    "2. Build and assess model accuracy\n",
    "3. Make individual recommendations\n",
    "4. Try multiple models and compare accuracy\n",
    "5. Consider how a company could use this"
   ]
  },
  {
   "cell_type": "code",
   "execution_count": 5,
   "metadata": {
    "collapsed": false
   },
   "outputs": [
    {
     "name": "stdout",
     "output_type": "stream",
     "text": [
      "Collecting scikit-surprise\n",
      "  Using cached scikit-surprise-1.0.3.tar.gz\n",
      "Requirement already satisfied: numpy>=1.11.2 in c:\\users\\michael.stone\\appdata\\local\\continuum\\anaconda3\\lib\\site-packages (from scikit-surprise)\n",
      "Requirement already satisfied: six>=1.10.0 in c:\\users\\michael.stone\\appdata\\local\\continuum\\anaconda3\\lib\\site-packages (from scikit-surprise)\n",
      "Building wheels for collected packages: scikit-surprise\n",
      "  Running setup.py bdist_wheel for scikit-surprise: started\n",
      "  Running setup.py bdist_wheel for scikit-surprise: finished with status 'done'\n",
      "  Stored in directory: C:\\Users\\michael.stone\\AppData\\Local\\pip\\Cache\\wheels\\5c\\84\\0c\\21a872115299d7e2170620fc9fad866ec7588e958d9ac77b35\n",
      "Successfully built scikit-surprise\n",
      "Installing collected packages: scikit-surprise\n",
      "Successfully installed scikit-surprise-1.0.3\n"
     ]
    }
   ],
   "source": [
    "# Install Surpise - a useful library for recommendation engines\n",
    "!pip install scikit-surprise"
   ]
  },
  {
   "cell_type": "code",
   "execution_count": 7,
   "metadata": {
    "collapsed": false
   },
   "outputs": [],
   "source": [
    "# Load Surprise\n",
    "from surprise import SVD\n",
    "from surprise import Dataset\n",
    "from surprise import evaluate, print_perf\n",
    "from surprise import Reader"
   ]
  },
  {
   "cell_type": "code",
   "execution_count": 8,
   "metadata": {
    "collapsed": false
   },
   "outputs": [],
   "source": [
    "# 1. Load the data into the recommendation format\n",
    "\n",
    "# As we're loading a custom dataset, we need to define a reader. In the\n",
    "# movielens dataset, each line has the following format:\n",
    "# 'user item rating timestamp', separated by '\\t' characters.\n",
    "reader = Reader(line_format='user item rating timestamp', sep='\\t')\n",
    "\n",
    "data = Dataset.load_from_file(file_path = '../../data/u.data', reader=reader)\n",
    "data.split(n_folds=5)"
   ]
  },
  {
   "cell_type": "code",
   "execution_count": 12,
   "metadata": {
    "collapsed": false
   },
   "outputs": [
    {
     "name": "stdout",
     "output_type": "stream",
     "text": [
      "Evaluating RMSE, MAE of algorithm SVD.\n",
      "\n",
      "------------\n",
      "Fold 1\n",
      "RMSE: 0.9403\n",
      "MAE:  0.7406\n",
      "------------\n",
      "Fold 2\n",
      "RMSE: 0.9317\n",
      "MAE:  0.7366\n",
      "------------\n",
      "Fold 3\n",
      "RMSE: 0.9333\n",
      "MAE:  0.7381\n",
      "------------\n",
      "Fold 4\n",
      "RMSE: 0.9352\n",
      "MAE:  0.7352\n",
      "------------\n",
      "Fold 5\n",
      "RMSE: 0.9410\n",
      "MAE:  0.7397\n",
      "------------\n",
      "------------\n",
      "Mean RMSE: 0.9363\n",
      "Mean MAE : 0.7380\n",
      "------------\n",
      "------------\n",
      "        Fold 1  Fold 2  Fold 3  Fold 4  Fold 5  Mean    \n",
      "RMSE    0.9403  0.9317  0.9333  0.9352  0.9410  0.9363  \n",
      "MAE     0.7406  0.7366  0.7381  0.7352  0.7397  0.7380  \n"
     ]
    }
   ],
   "source": [
    "# 2. Build and assess model accuracy\n",
    "\n",
    "# We'll use the famous SVD algorithm.\n",
    "algo = SVD()\n",
    "\n",
    "# Evaluate performances of our algorithm on the dataset.\n",
    "perf = evaluate(algo, data, measures=['RMSE', 'MAE'])\n",
    "\n",
    "print_perf(perf)"
   ]
  },
  {
   "cell_type": "code",
   "execution_count": 19,
   "metadata": {
    "collapsed": false
   },
   "outputs": [
    {
     "name": "stdout",
     "output_type": "stream",
     "text": [
      "user: 196        item: 302        r_ui = 2.00   est = 4.30   {'was_impossible': False}\n"
     ]
    }
   ],
   "source": [
    "# 3. Make individual recommendations\n",
    "uid = str(196)  # raw user id (as in the ratings file). They are **strings**!\n",
    "iid = str(302)  # raw item id (as in the ratings file). They are **strings**!\n",
    "\n",
    "# get a prediction for specific users and items.\n",
    "pred = algo.predict(uid, iid, r_ui=2, verbose=True)"
   ]
  },
  {
   "cell_type": "markdown",
   "metadata": {},
   "source": [
    "# Non-Negative Matrix Factorisation"
   ]
  },
  {
   "cell_type": "code",
   "execution_count": 14,
   "metadata": {
    "collapsed": false
   },
   "outputs": [
    {
     "name": "stdout",
     "output_type": "stream",
     "text": [
      "Evaluating RMSE, MAE of algorithm NMF.\n",
      "\n",
      "------------\n",
      "Fold 1\n",
      "RMSE: 0.9680\n",
      "MAE:  0.7628\n",
      "------------\n",
      "Fold 2\n",
      "RMSE: 0.9600\n",
      "MAE:  0.7574\n",
      "------------\n",
      "Fold 3\n",
      "RMSE: 0.9622\n",
      "MAE:  0.7579\n",
      "------------\n",
      "Fold 4\n",
      "RMSE: 0.9614\n",
      "MAE:  0.7546\n",
      "------------\n",
      "Fold 5\n",
      "RMSE: 0.9681\n",
      "MAE:  0.7571\n",
      "------------\n",
      "------------\n",
      "Mean RMSE: 0.9639\n",
      "Mean MAE : 0.7580\n",
      "------------\n",
      "------------\n",
      "        Fold 1  Fold 2  Fold 3  Fold 4  Fold 5  Mean    \n",
      "RMSE    0.9680  0.9600  0.9622  0.9614  0.9681  0.9639  \n",
      "MAE     0.7628  0.7574  0.7579  0.7546  0.7571  0.7580  \n"
     ]
    }
   ],
   "source": [
    "# 4. Try multiple models and compare accuracy\n",
    "\n",
    "# Try at least 3 of the models mentioned below:\n",
    "#random_pred.NormalPredictor    Algorithm predicting a random rating based on the distribution of the training set, which is assumed to be normal.\n",
    "#baseline_only.BaselineOnly    Algorithm predicting the baseline estimate for given user and item.\n",
    "#knns.KNNBasic    A basic collaborative filtering algorithm.\n",
    "#knns.KNNWithMeans    A basic collaborative filtering algorithm, taking into account the mean ratings of each user.\n",
    "#knns.KNNBaseline    A basic collaborative filtering algorithm taking into account a baseline rating.\n",
    "#matrix_factorization.SVD    The famous SVD algorithm, as popularized by Simon Funk during the Netflix Prize.\n",
    "#matrix_factorization.SVDpp    The SVD++ algorithm, an extension of SVD taking into account implicit ratings.\n",
    "#matrix_factorization.NMF    A collaborative filtering algorithm based on Non-negative Matrix Factorization.\n",
    "#slope_one.SlopeOne    A simple yet accurate collaborative filtering algorithm.\n",
    "#co_clustering.CoClustering    A collaborative filtering algorithm based on co-clustering.\n",
    "\n",
    "\n",
    "# Here's how to run Non-Negative Matrix Factorisiation\n",
    "from surprise import NMF\n",
    "\n",
    "# Now we will try Non-Negative Matrix Factorisiation (a form of collaborative filtering)\n",
    "algo.NMF = NMF()\n",
    "\n",
    "# Evaluate performances of our algorithm on the dataset.\n",
    "perf.NMF = evaluate(algo.NMF, data, measures=['RMSE', 'MAE'])\n",
    "\n",
    "print_perf(perf.NMF)"
   ]
  },
  {
   "cell_type": "code",
   "execution_count": 18,
   "metadata": {
    "collapsed": false
   },
   "outputs": [
    {
     "name": "stdout",
     "output_type": "stream",
     "text": [
      "user: 196        item: 302        r_ui = 2.00   est = 4.30   {'was_impossible': False}\n"
     ]
    }
   ],
   "source": [
    "# 3. Make individual recommendations\n",
    "uid = str(196)  # raw user id (as in the ratings file). They are **strings**!\n",
    "iid = str(302)  # raw item id (as in the ratings file). They are **strings**!\n",
    "\n",
    "# get a prediction for specific users and items.\n",
    "pred = algo.NMF.predict(uid, iid, r_ui=2, verbose=True)"
   ]
  },
  {
   "cell_type": "markdown",
   "metadata": {},
   "source": [
    "# KNN with Means"
   ]
  },
  {
   "cell_type": "code",
   "execution_count": 21,
   "metadata": {
    "collapsed": false
   },
   "outputs": [
    {
     "name": "stdout",
     "output_type": "stream",
     "text": [
      "Evaluating RMSE, MAE of algorithm KNNWithMeans.\n",
      "\n",
      "------------\n",
      "Fold 1\n",
      "Computing the msd similarity matrix...\n",
      "Done computing similarity matrix.\n",
      "RMSE: 0.9526\n",
      "MAE:  0.7513\n",
      "------------\n",
      "Fold 2\n",
      "Computing the msd similarity matrix...\n",
      "Done computing similarity matrix.\n",
      "RMSE: 0.9457\n",
      "MAE:  0.7476\n",
      "------------\n",
      "Fold 3\n",
      "Computing the msd similarity matrix...\n",
      "Done computing similarity matrix.\n",
      "RMSE: 0.9503\n",
      "MAE:  0.7506\n",
      "------------\n",
      "Fold 4\n",
      "Computing the msd similarity matrix...\n",
      "Done computing similarity matrix.\n",
      "RMSE: 0.9487\n",
      "MAE:  0.7455\n",
      "------------\n",
      "Fold 5\n",
      "Computing the msd similarity matrix...\n",
      "Done computing similarity matrix.\n",
      "RMSE: 0.9573\n",
      "MAE:  0.7507\n",
      "------------\n",
      "------------\n",
      "Mean RMSE: 0.9509\n",
      "Mean MAE : 0.7491\n",
      "------------\n",
      "------------\n",
      "        Fold 1  Fold 2  Fold 3  Fold 4  Fold 5  Mean    \n",
      "RMSE    0.9526  0.9457  0.9503  0.9487  0.9573  0.9509  \n",
      "MAE     0.7513  0.7476  0.7506  0.7455  0.7507  0.7491  \n"
     ]
    }
   ],
   "source": [
    "# 4. Try multiple models and compare accuracy\n",
    "\n",
    "# Try at least 3 of the models mentioned below:\n",
    "#random_pred.NormalPredictor    Algorithm predicting a random rating based on the distribution of the training set, which is assumed to be normal.\n",
    "#baseline_only.BaselineOnly    Algorithm predicting the baseline estimate for given user and item.\n",
    "#knns.KNNBasic    A basic collaborative filtering algorithm.\n",
    "#knns.KNNWithMeans    A basic collaborative filtering algorithm, taking into account the mean ratings of each user.\n",
    "#knns.KNNBaseline    A basic collaborative filtering algorithm taking into account a baseline rating.\n",
    "#matrix_factorization.SVD    The famous SVD algorithm, as popularized by Simon Funk during the Netflix Prize.\n",
    "#matrix_factorization.SVDpp    The SVD++ algorithm, an extension of SVD taking into account implicit ratings.\n",
    "#matrix_factorization.NMF    A collaborative filtering algorithm based on Non-negative Matrix Factorization.\n",
    "#slope_one.SlopeOne    A simple yet accurate collaborative filtering algorithm.\n",
    "#co_clustering.CoClustering    A collaborative filtering algorithm based on co-clustering.\n",
    "\n",
    "\n",
    "# Here's how to run Non-Negative Matrix Factorisiation\n",
    "from surprise import KNNWithMeans\n",
    "\n",
    "# Now we will try Non-Negative Matrix Factorisiation (a form of collaborative filtering)\n",
    "algo.KNNWithMeans = KNNWithMeans()\n",
    "\n",
    "# Evaluate performances of our algorithm on the dataset.\n",
    "perf.KNNWithMeans = evaluate(algo.KNNWithMeans, data, measures=['RMSE', 'MAE'])\n",
    "\n",
    "print_perf(perf.KNNWithMeans)"
   ]
  },
  {
   "cell_type": "code",
   "execution_count": 22,
   "metadata": {
    "collapsed": false
   },
   "outputs": [
    {
     "name": "stdout",
     "output_type": "stream",
     "text": [
      "user: 196        item: 302        r_ui = 2.00   est = 4.21   {'actual_k': 40, 'was_impossible': False}\n"
     ]
    }
   ],
   "source": [
    "# 3. Make individual recommendations\n",
    "uid = str(196)  # raw user id (as in the ratings file). They are **strings**!\n",
    "iid = str(302)  # raw item id (as in the ratings file). They are **strings**!\n",
    "\n",
    "# get a prediction for specific users and items.\n",
    "pred = algo.KNNWithMeans.predict(uid, iid, r_ui=2, verbose=True)"
   ]
  },
  {
   "cell_type": "markdown",
   "metadata": {},
   "source": [
    "# CoClustering"
   ]
  },
  {
   "cell_type": "code",
   "execution_count": 23,
   "metadata": {
    "collapsed": false,
    "scrolled": true
   },
   "outputs": [
    {
     "name": "stdout",
     "output_type": "stream",
     "text": [
      "Evaluating RMSE, MAE of algorithm CoClustering.\n",
      "\n",
      "------------\n",
      "Fold 1\n",
      "RMSE: 0.9648\n",
      "MAE:  0.7541\n",
      "------------\n",
      "Fold 2\n",
      "RMSE: 0.9682\n",
      "MAE:  0.7604\n",
      "------------\n",
      "Fold 3\n",
      "RMSE: 0.9644\n",
      "MAE:  0.7578\n",
      "------------\n",
      "Fold 4\n",
      "RMSE: 0.9647\n",
      "MAE:  0.7528\n",
      "------------\n",
      "Fold 5\n",
      "RMSE: 0.9677\n",
      "MAE:  0.7544\n",
      "------------\n",
      "------------\n",
      "Mean RMSE: 0.9659\n",
      "Mean MAE : 0.7559\n",
      "------------\n",
      "------------\n",
      "        Fold 1  Fold 2  Fold 3  Fold 4  Fold 5  Mean    \n",
      "RMSE    0.9648  0.9682  0.9644  0.9647  0.9677  0.9659  \n",
      "MAE     0.7541  0.7604  0.7578  0.7528  0.7544  0.7559  \n"
     ]
    }
   ],
   "source": [
    "# 4. Try multiple models and compare accuracy\n",
    "\n",
    "# Try at least 3 of the models mentioned below:\n",
    "#random_pred.NormalPredictor    Algorithm predicting a random rating based on the distribution of the training set, which is assumed to be normal.\n",
    "#baseline_only.BaselineOnly    Algorithm predicting the baseline estimate for given user and item.\n",
    "#knns.KNNBasic    A basic collaborative filtering algorithm.\n",
    "#knns.KNNWithMeans    A basic collaborative filtering algorithm, taking into account the mean ratings of each user.\n",
    "#knns.KNNBaseline    A basic collaborative filtering algorithm taking into account a baseline rating.\n",
    "#matrix_factorization.SVD    The famous SVD algorithm, as popularized by Simon Funk during the Netflix Prize.\n",
    "#matrix_factorization.SVDpp    The SVD++ algorithm, an extension of SVD taking into account implicit ratings.\n",
    "#matrix_factorization.NMF    A collaborative filtering algorithm based on Non-negative Matrix Factorization.\n",
    "#slope_one.SlopeOne    A simple yet accurate collaborative filtering algorithm.\n",
    "#co_clustering.CoClustering    A collaborative filtering algorithm based on co-clustering.\n",
    "\n",
    "\n",
    "# Here's how to run Non-Negative Matrix Factorisiation\n",
    "from surprise import CoClustering\n",
    "\n",
    "# Now we will try Non-Negative Matrix Factorisiation (a form of collaborative filtering)\n",
    "algo.CoClustering = CoClustering()\n",
    "\n",
    "# Evaluate performances of our algorithm on the dataset.\n",
    "perf.CoClustering = evaluate(algo.CoClustering, data, measures=['RMSE', 'MAE'])\n",
    "\n",
    "print_perf(perf.CoClustering)"
   ]
  },
  {
   "cell_type": "code",
   "execution_count": 24,
   "metadata": {
    "collapsed": false
   },
   "outputs": [
    {
     "name": "stdout",
     "output_type": "stream",
     "text": [
      "user: 196        item: 302        r_ui = 2.00   est = 4.37   {'was_impossible': False}\n"
     ]
    }
   ],
   "source": [
    "# 3. Make individual recommendations\n",
    "uid = str(196)  # raw user id (as in the ratings file). They are **strings**!\n",
    "iid = str(302)  # raw item id (as in the ratings file). They are **strings**!\n",
    "\n",
    "# get a prediction for specific users and items.\n",
    "pred = algo.CoClustering.predict(uid, iid, r_ui=2, verbose=True)"
   ]
  },
  {
   "cell_type": "markdown",
   "metadata": {},
   "source": [
    "# SlopeOne"
   ]
  },
  {
   "cell_type": "code",
   "execution_count": 25,
   "metadata": {
    "collapsed": false,
    "scrolled": true
   },
   "outputs": [
    {
     "name": "stdout",
     "output_type": "stream",
     "text": [
      "Evaluating RMSE, MAE of algorithm SlopeOne.\n",
      "\n",
      "------------\n",
      "Fold 1\n",
      "RMSE: 0.9480\n",
      "MAE:  0.7453\n",
      "------------\n",
      "Fold 2\n",
      "RMSE: 0.9400\n",
      "MAE:  0.7406\n",
      "------------\n",
      "Fold 3\n",
      "RMSE: 0.9420\n",
      "MAE:  0.7430\n",
      "------------\n",
      "Fold 4\n",
      "RMSE: 0.9442\n",
      "MAE:  0.7417\n",
      "------------\n",
      "Fold 5\n",
      "RMSE: 0.9518\n",
      "MAE:  0.7446\n",
      "------------\n",
      "------------\n",
      "Mean RMSE: 0.9452\n",
      "Mean MAE : 0.7431\n",
      "------------\n",
      "------------\n",
      "        Fold 1  Fold 2  Fold 3  Fold 4  Fold 5  Mean    \n",
      "RMSE    0.9480  0.9400  0.9420  0.9442  0.9518  0.9452  \n",
      "MAE     0.7453  0.7406  0.7430  0.7417  0.7446  0.7431  \n"
     ]
    }
   ],
   "source": [
    "# 4. Try multiple models and compare accuracy\n",
    "\n",
    "# Try at least 3 of the models mentioned below:\n",
    "#random_pred.NormalPredictor    Algorithm predicting a random rating based on the distribution of the training set, which is assumed to be normal.\n",
    "#baseline_only.BaselineOnly    Algorithm predicting the baseline estimate for given user and item.\n",
    "#knns.KNNBasic    A basic collaborative filtering algorithm.\n",
    "#knns.KNNWithMeans    A basic collaborative filtering algorithm, taking into account the mean ratings of each user.\n",
    "#knns.KNNBaseline    A basic collaborative filtering algorithm taking into account a baseline rating.\n",
    "#matrix_factorization.SVD    The famous SVD algorithm, as popularized by Simon Funk during the Netflix Prize.\n",
    "#matrix_factorization.SVDpp    The SVD++ algorithm, an extension of SVD taking into account implicit ratings.\n",
    "#matrix_factorization.NMF    A collaborative filtering algorithm based on Non-negative Matrix Factorization.\n",
    "#slope_one.SlopeOne    A simple yet accurate collaborative filtering algorithm.\n",
    "#co_clustering.CoClustering    A collaborative filtering algorithm based on co-clustering.\n",
    "\n",
    "\n",
    "# Here's how to run Non-Negative Matrix Factorisiation\n",
    "from surprise import SlopeOne\n",
    "\n",
    "# Now we will try Non-Negative Matrix Factorisiation (a form of collaborative filtering)\n",
    "algo.SlopeOne = SlopeOne()\n",
    "\n",
    "# Evaluate performances of our algorithm on the dataset.\n",
    "perf.SlopeOne = evaluate(algo.SlopeOne, data, measures=['RMSE', 'MAE'])\n",
    "\n",
    "print_perf(perf.SlopeOne)"
   ]
  },
  {
   "cell_type": "code",
   "execution_count": 26,
   "metadata": {
    "collapsed": false
   },
   "outputs": [
    {
     "name": "stdout",
     "output_type": "stream",
     "text": [
      "user: 196        item: 302        r_ui = 2.00   est = 4.25   {'was_impossible': False}\n"
     ]
    }
   ],
   "source": [
    "# 3. Make individual recommendations\n",
    "uid = str(196)  # raw user id (as in the ratings file). They are **strings**!\n",
    "iid = str(302)  # raw item id (as in the ratings file). They are **strings**!\n",
    "\n",
    "# get a prediction for specific users and items.\n",
    "pred = algo.SlopeOne.predict(uid, iid, r_ui=2, verbose=True)"
   ]
  },
  {
   "cell_type": "markdown",
   "metadata": {},
   "source": [
    "# BaseLineOnly"
   ]
  },
  {
   "cell_type": "code",
   "execution_count": 27,
   "metadata": {
    "collapsed": false,
    "scrolled": true
   },
   "outputs": [
    {
     "name": "stdout",
     "output_type": "stream",
     "text": [
      "Evaluating RMSE, MAE of algorithm BaselineOnly.\n",
      "\n",
      "------------\n",
      "Fold 1\n",
      "Estimating biases using als...\n",
      "RMSE: 0.9460\n",
      "MAE:  0.7498\n",
      "------------\n",
      "Fold 2\n",
      "Estimating biases using als...\n",
      "RMSE: 0.9373\n",
      "MAE:  0.7456\n",
      "------------\n",
      "Fold 3\n",
      "Estimating biases using als...\n",
      "RMSE: 0.9438\n",
      "MAE:  0.7499\n",
      "------------\n",
      "Fold 4\n",
      "Estimating biases using als...\n",
      "RMSE: 0.9439\n",
      "MAE:  0.7470\n",
      "------------\n",
      "Fold 5\n",
      "Estimating biases using als...\n",
      "RMSE: 0.9505\n",
      "MAE:  0.7506\n",
      "------------\n",
      "------------\n",
      "Mean RMSE: 0.9443\n",
      "Mean MAE : 0.7486\n",
      "------------\n",
      "------------\n",
      "        Fold 1  Fold 2  Fold 3  Fold 4  Fold 5  Mean    \n",
      "RMSE    0.9460  0.9373  0.9438  0.9439  0.9505  0.9443  \n",
      "MAE     0.7498  0.7456  0.7499  0.7470  0.7506  0.7486  \n"
     ]
    }
   ],
   "source": [
    "# 4. Try multiple models and compare accuracy\n",
    "\n",
    "# Try at least 3 of the models mentioned below:\n",
    "#random_pred.NormalPredictor    Algorithm predicting a random rating based on the distribution of the training set, which is assumed to be normal.\n",
    "#baseline_only.BaselineOnly    Algorithm predicting the baseline estimate for given user and item.\n",
    "#knns.KNNBasic    A basic collaborative filtering algorithm.\n",
    "#knns.KNNWithMeans    A basic collaborative filtering algorithm, taking into account the mean ratings of each user.\n",
    "#knns.KNNBaseline    A basic collaborative filtering algorithm taking into account a baseline rating.\n",
    "#matrix_factorization.SVD    The famous SVD algorithm, as popularized by Simon Funk during the Netflix Prize.\n",
    "#matrix_factorization.SVDpp    The SVD++ algorithm, an extension of SVD taking into account implicit ratings.\n",
    "#matrix_factorization.NMF    A collaborative filtering algorithm based on Non-negative Matrix Factorization.\n",
    "#slope_one.SlopeOne    A simple yet accurate collaborative filtering algorithm.\n",
    "#co_clustering.CoClustering    A collaborative filtering algorithm based on co-clustering.\n",
    "\n",
    "\n",
    "# Here's how to run Non-Negative Matrix Factorisiation\n",
    "from surprise import BaselineOnly\n",
    "\n",
    "# Now we will try Non-Negative Matrix Factorisiation (a form of collaborative filtering)\n",
    "algo.BaselineOnly = BaselineOnly()\n",
    "\n",
    "# Evaluate performances of our algorithm on the dataset.\n",
    "perf.BaselineOnly = evaluate(algo.BaselineOnly, data, measures=['RMSE', 'MAE'])\n",
    "\n",
    "print_perf(perf.BaselineOnly)"
   ]
  },
  {
   "cell_type": "code",
   "execution_count": 28,
   "metadata": {
    "collapsed": false
   },
   "outputs": [
    {
     "name": "stdout",
     "output_type": "stream",
     "text": [
      "user: 196        item: 302        r_ui = 2.00   est = 4.16   {'was_impossible': False}\n"
     ]
    }
   ],
   "source": [
    "# 3. Make individual recommendations\n",
    "uid = str(196)  # raw user id (as in the ratings file). They are **strings**!\n",
    "iid = str(302)  # raw item id (as in the ratings file). They are **strings**!\n",
    "\n",
    "# get a prediction for specific users and items.\n",
    "pred = algo.BaselineOnly.predict(uid, iid, r_ui=2, verbose=True)"
   ]
  },
  {
   "cell_type": "code",
   "execution_count": 4,
   "metadata": {
    "collapsed": false
   },
   "outputs": [
    {
     "data": {
      "text/html": [
       "<div>\n",
       "<table border=\"1\" class=\"dataframe\">\n",
       "  <thead>\n",
       "    <tr style=\"text-align: right;\">\n",
       "      <th></th>\n",
       "      <th>RMSE</th>\n",
       "      <th>MAE</th>\n",
       "      <th>Prediction</th>\n",
       "    </tr>\n",
       "    <tr>\n",
       "      <th>Algorithm</th>\n",
       "      <th></th>\n",
       "      <th></th>\n",
       "      <th></th>\n",
       "    </tr>\n",
       "  </thead>\n",
       "  <tbody>\n",
       "    <tr>\n",
       "      <th>BaselineOnly</th>\n",
       "      <td>0.9443</td>\n",
       "      <td>0.7486</td>\n",
       "      <td>4.16</td>\n",
       "    </tr>\n",
       "    <tr>\n",
       "      <th>SVD</th>\n",
       "      <td>0.9363</td>\n",
       "      <td>0.7380</td>\n",
       "      <td>4.30</td>\n",
       "    </tr>\n",
       "    <tr>\n",
       "      <th>Non-Negative Matrix Factorisation</th>\n",
       "      <td>0.9639</td>\n",
       "      <td>0.7580</td>\n",
       "      <td>4.30</td>\n",
       "    </tr>\n",
       "    <tr>\n",
       "      <th>KNN with Means</th>\n",
       "      <td>0.9509</td>\n",
       "      <td>0.7491</td>\n",
       "      <td>4.21</td>\n",
       "    </tr>\n",
       "    <tr>\n",
       "      <th>CoClustering</th>\n",
       "      <td>0.9659</td>\n",
       "      <td>0.7559</td>\n",
       "      <td>4.37</td>\n",
       "    </tr>\n",
       "    <tr>\n",
       "      <th>SlopeOne</th>\n",
       "      <td>0.9452</td>\n",
       "      <td>0.7431</td>\n",
       "      <td>4.25</td>\n",
       "    </tr>\n",
       "  </tbody>\n",
       "</table>\n",
       "</div>"
      ],
      "text/plain": [
       "                                     RMSE     MAE  Prediction\n",
       "Algorithm                                                    \n",
       "BaselineOnly                       0.9443  0.7486        4.16\n",
       "SVD                                0.9363  0.7380        4.30\n",
       "Non-Negative Matrix Factorisation  0.9639  0.7580        4.30\n",
       "KNN with Means                     0.9509  0.7491        4.21\n",
       "CoClustering                       0.9659  0.7559        4.37\n",
       "SlopeOne                           0.9452  0.7431        4.25"
      ]
     },
     "execution_count": 4,
     "metadata": {},
     "output_type": "execute_result"
    }
   ],
   "source": [
    "# Summary Results\n",
    "import pandas as pd\n",
    "\n",
    "summary_results = pd.read_csv(\"summary_results.csv\", index_col=0)\n",
    "summary_results"
   ]
  },
  {
   "cell_type": "markdown",
   "metadata": {},
   "source": [
    "##### 5. Consider how a company could use this\n",
    "\n",
    "How might a company use a recommendation like this in practice? Write a few paragraphs covering how they could use the above covering:\n",
    "- How the algorithm works?\n",
    "- What data would be used?\n",
    "- How would we know if it's working?\n",
    "- What is the benefit of using an algorithm over this over just recommending the most popular films overall?"
   ]
  }
 ],
 "metadata": {
  "kernelspec": {
   "display_name": "Python 3",
   "language": "python",
   "name": "python3"
  },
  "language_info": {
   "codemirror_mode": {
    "name": "ipython",
    "version": 3
   },
   "file_extension": ".py",
   "mimetype": "text/x-python",
   "name": "python",
   "nbconvert_exporter": "python",
   "pygments_lexer": "ipython3",
   "version": "3.6.0"
  }
 },
 "nbformat": 4,
 "nbformat_minor": 0
}
